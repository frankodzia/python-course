{
  "nbformat": 4,
  "nbformat_minor": 0,
  "metadata": {
    "colab": {
      "provenance": [],
      "authorship_tag": "ABX9TyN9fb3jSU1yp/TlUlwkQnUs",
      "include_colab_link": true
    },
    "kernelspec": {
      "name": "python3",
      "display_name": "Python 3"
    },
    "language_info": {
      "name": "python"
    }
  },
  "cells": [
    {
      "cell_type": "markdown",
      "metadata": {
        "id": "view-in-github",
        "colab_type": "text"
      },
      "source": [
        "<a href=\"https://colab.research.google.com/github/frankodzia/python-course/blob/main/lekcja_1.ipynb\" target=\"_parent\"><img src=\"https://colab.research.google.com/assets/colab-badge.svg\" alt=\"Open In Colab\"/></a>"
      ]
    },
    {
      "cell_type": "code",
      "execution_count": 5,
      "metadata": {
        "colab": {
          "base_uri": "https://localhost:8080/"
        },
        "id": "4Ofs-X0Rcayz",
        "outputId": "f804fd5b-1cf7-4b90-e6c8-ee8f0d34db15"
      },
      "outputs": [
        {
          "output_type": "stream",
          "name": "stdout",
          "text": [
            "mam na imię:Franek, posiadam umiejtności: żadne. Moje IQ to: -12. Czy jestem mądry: False\n"
          ]
        }
      ],
      "source": [
        "imie = \"Franek\"\n",
        "umiejętności = \"żadne\"\n",
        "ilośćIQ = -12\n",
        "czy_jest_mądry = False;\n",
        "\n",
        "print(f\"mam na imię:{imie}, posiadam umiejtności: {umiejętności}. Moje IQ to: {ilośćIQ}. Czy jestem mądry: {czy_jest_mądry}\")"
      ]
    },
    {
      "cell_type": "code",
      "source": [
        "moje_ulubione_gry = [\"BattleField 1\", \"Team Fortess 2\", \"The midnight walk\",1,False]\n",
        "print(moje_ulubione_gry)\n",
        "\n",
        "print(moje_ulubione_gry[2])\n",
        "\n",
        "moje_ulubione_gry.append(\"Gris\")\n",
        "print(moje_ulubione_gry)\n",
        "\n",
        "print(type(moje_ulubione_gry))\n",
        "\n",
        "print(int(\"010101\", 2))\n",
        "print(int(\"FFF\", 16))"
      ],
      "metadata": {
        "colab": {
          "base_uri": "https://localhost:8080/"
        },
        "id": "ZSMGfAR0d7xm",
        "outputId": "608fee61-8e48-4239-95d3-0e1b1f4814de"
      },
      "execution_count": 14,
      "outputs": [
        {
          "output_type": "stream",
          "name": "stdout",
          "text": [
            "['BattleField 1', 'Team Fortess 2', 'The midnight walk', 1, False]\n",
            "The midnight walk\n",
            "['BattleField 1', 'Team Fortess 2', 'The midnight walk', 1, False, 'Gris']\n",
            "<class 'list'>\n",
            "21\n",
            "4095\n"
          ]
        }
      ]
    },
    {
      "cell_type": "code",
      "source": [
        "for gry in moje_ulubione_gry:\n",
        "  print(gry)\n",
        "\n",
        "for f in range(0,10,2):\n",
        "  print(f)"
      ],
      "metadata": {
        "colab": {
          "base_uri": "https://localhost:8080/"
        },
        "id": "EsPv74uLfHpK",
        "outputId": "081be401-a684-4d09-e34b-50e2238ef4c1"
      },
      "execution_count": 19,
      "outputs": [
        {
          "output_type": "stream",
          "name": "stdout",
          "text": [
            "BattleField 1\n",
            "Team Fortess 2\n",
            "The midnight walk\n",
            "1\n",
            "False\n",
            "Gris\n",
            "0\n",
            "2\n",
            "4\n",
            "6\n",
            "8\n"
          ]
        }
      ]
    },
    {
      "cell_type": "code",
      "source": [
        "slownik = {\n",
        "    1: 'jeden',\n",
        "    2: 'dwa',\n",
        "    3: 'trzy'\n",
        "}\n",
        "print(slownik[2])\n",
        "\n",
        "print(slownik.keys())\n",
        "\n",
        "# w pętli\n",
        "\n",
        "for h in slownik.keys():\n",
        "  print(h)"
      ],
      "metadata": {
        "colab": {
          "base_uri": "https://localhost:8080/"
        },
        "id": "TjCEhR9pgw1r",
        "outputId": "c5d7611a-1da3-40f6-c1ea-1eb974740fef"
      },
      "execution_count": 33,
      "outputs": [
        {
          "output_type": "stream",
          "name": "stdout",
          "text": [
            "dwa\n",
            "dict_keys([1, 2, 3])\n",
            "1\n",
            "2\n",
            "3\n"
          ]
        }
      ]
    },
    {
      "cell_type": "code",
      "source": [
        "jeden = float(input(\"Podaj liczbę: \"))\n",
        "dwa = float(input(\"Podaj liczbę: \"))\n",
        "\n",
        "def dodwanie(suma):\n",
        "  suma = jeden + dwa\n",
        "  return suma\n",
        "\n",
        "print(dodwanie(0))"
      ],
      "metadata": {
        "colab": {
          "base_uri": "https://localhost:8080/"
        },
        "id": "SAT8OyvFimAK",
        "outputId": "e7acda66-428d-47a6-8d5b-bead05482f75"
      },
      "execution_count": 39,
      "outputs": [
        {
          "output_type": "stream",
          "name": "stdout",
          "text": [
            "Podaj liczbę: 1\n",
            "Podaj liczbę: 2\n",
            "3.0\n"
          ]
        }
      ]
    }
  ]
}